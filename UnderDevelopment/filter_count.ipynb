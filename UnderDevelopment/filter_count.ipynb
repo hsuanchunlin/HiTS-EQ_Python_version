{
 "cells": [
  {
   "attachments": {},
   "cell_type": "markdown",
   "metadata": {},
   "source": [
    "# Hits-EQ get the counts of each sequence step by step"
   ]
  },
  {
   "cell_type": "code",
   "execution_count": 1,
   "metadata": {},
   "outputs": [],
   "source": [
    "import numpy as np\n",
    "import pandas as pd\n",
    "import sys\n",
    "import os\n",
    "import itertools"
   ]
  },
  {
   "attachments": {},
   "cell_type": "markdown",
   "metadata": {},
   "source": [
    "## Set parameters\n",
    "- Reference sequence: the sequence exist in our target sequence but not in the randomized region.\n",
    "- sequence_start: Where your sequence start. Remember in python. In python, the first location is 0 and here 2 means the 3rd nucleotide."
   ]
  },
  {
   "cell_type": "code",
   "execution_count": 13,
   "metadata": {},
   "outputs": [],
   "source": [
    "\n",
    "test_seq = \"GAGCTTGAATCTCAC\"  # sequence which used to filter what we want\n",
    "sequence_start = 2\n",
    "nTs = [\"A\",\"C\",\"G\",\"T\"]\n",
    "# Where your sequence start. Remember in python,\n",
    "# the first location is 0 and here 2 means the 3rd nucleotide.\n",
    "number = 2\n",
    "where_dimer = 0\n",
    "howmany = 6\n",
    "len_test = len(test_seq)\n",
    "dimer=\"NO\""
   ]
  },
  {
   "cell_type": "code",
   "execution_count": 11,
   "metadata": {},
   "outputs": [],
   "source": [
    "def quality_check(sequence, reference):\n",
    "    seq_len = len(sequence)\n",
    "    ref_len = len(reference)\n",
    "    n = 0\n",
    "    for i in range(ref_len):\n",
    "        if sequence[i] != reference[i]:\n",
    "            n += 1\n",
    "    return n\n",
    "\n",
    "def preprocess_sequence(input_seq):\n",
    "        try:\n",
    "            processed_sequence = input_seq[sequence_start : (sequence_start + len_test)]\n",
    "            # Start to check the sequence, if mismatch <=2, then print the sequence into the file\n",
    "            mismatch = quality_check(processed_sequence, test_seq)\n",
    "            if mismatch <= 2:\n",
    "                 return input_seq\n",
    "        except:\n",
    "            return \"False\"\n",
    "\n",
    "def generate_nts(nT, seq_length):\n",
    "    products = itertools.product(nT,repeat=seq_length)\n",
    "    return pd.Series([\"\".join(x) for x in products])"
   ]
  },
  {
   "cell_type": "code",
   "execution_count": 12,
   "metadata": {},
   "outputs": [],
   "source": [
    "#create the two and six nucleotide\n",
    "majorN = generate_nts(nTs, howmany)\n",
    "twoN = generate_nts(nTs, 2)\n",
    "dict_major = {x:0 for x in majorN}\n",
    "dict_dimer ={x:0 for x in twoN}\n",
    "\n",
    "def read_count(input_seq):\n",
    "        try:\n",
    "            dict_major[input_seq[number:number+howmany]] += 1\n",
    "        except:\n",
    "            pass\n",
    "def read_count_diNT(input_seq):\n",
    "        try:\n",
    "            dict_dimer[input_seq[where_dimer:where_dimer+2]] += 1\n",
    "        except:\n",
    "            pass"
   ]
  },
  {
   "attachments": {},
   "cell_type": "markdown",
   "metadata": {},
   "source": [
    "## Start Processing"
   ]
  },
  {
   "cell_type": "code",
   "execution_count": 7,
   "metadata": {},
   "outputs": [],
   "source": [
    "with open(\"filename\", \"r\") as f:\n",
    "    while True:\n",
    "        header = f.readline().strip()\n",
    "        seq = f.readline().strip()\n",
    "        plus = f.readline().strip()\n",
    "        quality = f.readline().strip()\n",
    "        if not header:\n",
    "            break\n",
    "        try:\n",
    "            processed_sequence = preprocess_sequence(seq)\n",
    "\n",
    "        except:\n",
    "            pass\n",
    "\n",
    "        if processed_sequence is not \"False\":\n",
    "                read_count(processed_sequence)\n",
    "                if dimer is \"YES\":\n",
    "                     read_count_diNT(processed_sequence)\n",
    "        else:\n",
    "             pass"
   ]
  },
  {
   "cell_type": "code",
   "execution_count": 6,
   "metadata": {},
   "outputs": [],
   "source": [
    "result_major = pd.DataFrame(dict_major.items(), columns=[\"sequence\", \"counts\"])\n",
    "result_diNT =  pd.DataFrame(dict_dimer.items(), columns=[\"dimer\", \"dimer_counts\"])\n",
    "export_table = pd.concat(result_major, result_diNT, axis=1)\n",
    "export_table.to_csv(\"result.csv\")"
   ]
  }
 ],
 "metadata": {
  "kernelspec": {
   "display_name": "mactf-sandbox",
   "language": "python",
   "name": "python3"
  },
  "language_info": {
   "codemirror_mode": {
    "name": "ipython",
    "version": 3
   },
   "file_extension": ".py",
   "mimetype": "text/x-python",
   "name": "python",
   "nbconvert_exporter": "python",
   "pygments_lexer": "ipython3",
   "version": "3.8.7"
  },
  "orig_nbformat": 4
 },
 "nbformat": 4,
 "nbformat_minor": 2
}
