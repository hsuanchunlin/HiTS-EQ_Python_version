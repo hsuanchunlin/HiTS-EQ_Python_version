{
 "cells": [
  {
   "attachments": {},
   "cell_type": "markdown",
   "metadata": {},
   "source": [
    "# Implement HiTS-EQ in python - both Equation and curve fitting solutions\n",
    "Hsuan-Chun Lin 2023.03\n",
    "\n",
    "In this version, multiple points are supported. You can use different number of concentrations without change any parameters in the sourcecode.\n",
    "## Curve Fitting Solution - recommended\n",
    "### Import necessary packages"
   ]
  },
  {
   "cell_type": "code",
   "execution_count": 131,
   "metadata": {},
   "outputs": [],
   "source": [
    "import numpy as np\n",
    "import pandas as pd\n",
    "from scipy.optimize import curve_fit\n",
    "from functools import partial\n",
    "import seaborn as sns"
   ]
  },
  {
   "attachments": {},
   "cell_type": "markdown",
   "metadata": {},
   "source": [
    "### Import data in csv format and fetch the binding fractions"
   ]
  },
  {
   "cell_type": "code",
   "execution_count": 132,
   "metadata": {},
   "outputs": [
    {
     "data": {
      "text/html": [
       "<div>\n",
       "<style scoped>\n",
       "    .dataframe tbody tr th:only-of-type {\n",
       "        vertical-align: middle;\n",
       "    }\n",
       "\n",
       "    .dataframe tbody tr th {\n",
       "        vertical-align: top;\n",
       "    }\n",
       "\n",
       "    .dataframe thead th {\n",
       "        text-align: right;\n",
       "    }\n",
       "</style>\n",
       "<table border=\"1\" class=\"dataframe\">\n",
       "  <thead>\n",
       "    <tr style=\"text-align: right;\">\n",
       "      <th></th>\n",
       "      <th>Seq</th>\n",
       "      <th>1</th>\n",
       "      <th>2</th>\n",
       "      <th>3</th>\n",
       "      <th>4</th>\n",
       "    </tr>\n",
       "  </thead>\n",
       "  <tbody>\n",
       "    <tr>\n",
       "      <th>0</th>\n",
       "      <td>f</td>\n",
       "      <td>0</td>\n",
       "      <td>0.25</td>\n",
       "      <td>0.5</td>\n",
       "      <td>0.75</td>\n",
       "    </tr>\n",
       "    <tr>\n",
       "      <th>1</th>\n",
       "      <td>[E]</td>\n",
       "      <td>0</td>\n",
       "      <td>6.67</td>\n",
       "      <td>20.0</td>\n",
       "      <td>60.00</td>\n",
       "    </tr>\n",
       "    <tr>\n",
       "      <th>2</th>\n",
       "      <td>AAAAAA</td>\n",
       "      <td>4133</td>\n",
       "      <td>1425.00</td>\n",
       "      <td>1754.0</td>\n",
       "      <td>1422.00</td>\n",
       "    </tr>\n",
       "    <tr>\n",
       "      <th>3</th>\n",
       "      <td>AAAAAC</td>\n",
       "      <td>2662</td>\n",
       "      <td>1049.00</td>\n",
       "      <td>998.0</td>\n",
       "      <td>953.00</td>\n",
       "    </tr>\n",
       "    <tr>\n",
       "      <th>4</th>\n",
       "      <td>AAAAAG</td>\n",
       "      <td>5247</td>\n",
       "      <td>2726.00</td>\n",
       "      <td>2612.0</td>\n",
       "      <td>2322.00</td>\n",
       "    </tr>\n",
       "  </tbody>\n",
       "</table>\n",
       "</div>"
      ],
      "text/plain": [
       "      Seq     1        2       3        4\n",
       "0       f     0     0.25     0.5     0.75\n",
       "1     [E]     0     6.67    20.0    60.00\n",
       "2  AAAAAA  4133  1425.00  1754.0  1422.00\n",
       "3  AAAAAC  2662  1049.00   998.0   953.00\n",
       "4  AAAAAG  5247  2726.00  2612.0  2322.00"
      ]
     },
     "execution_count": 132,
     "metadata": {},
     "output_type": "execute_result"
    }
   ],
   "source": [
    "df = pd.read_csv(\"input_data.csv\", header=0)\n",
    "df.head()"
   ]
  },
  {
   "attachments": {},
   "cell_type": "markdown",
   "metadata": {},
   "source": [
    "### Data format preprocessing"
   ]
  },
  {
   "cell_type": "code",
   "execution_count": 149,
   "metadata": {},
   "outputs": [],
   "source": [
    "enzyme_concentration =  df.iloc[1,1:]\n",
    "binding_fraction = 1 - df.iloc[0,1:].astype(float)\n",
    "sequence_count = df.iloc[2:,1:]\n",
    "library = df.iloc[2:,0].reset_index().drop(\"index\",axis=1)"
   ]
  },
  {
   "attachments": {},
   "cell_type": "markdown",
   "metadata": {},
   "source": [
    "### Define fitting function\n",
    "$$f = 1 -( \\frac{D_{t}}{D_t1}\\times (1-frac) \\times \\frac{D_1}{D_0})= \\frac{E}{E+K_D}$$"
   ]
  },
  {
   "attachments": {},
   "cell_type": "markdown",
   "metadata": {},
   "source": [
    "Calculate $$ D_t $$ and $$D_{t1}$$"
   ]
  },
  {
   "cell_type": "code",
   "execution_count": 134,
   "metadata": {},
   "outputs": [
    {
     "data": {
      "text/plain": [
       "1    1.000000\n",
       "2    1.797373\n",
       "3    1.732612\n",
       "4    1.686968\n",
       "dtype: float64"
      ]
     },
     "execution_count": 134,
     "metadata": {},
     "output_type": "execute_result"
    }
   ],
   "source": [
    "Dt_all = sequence_count.sum()\n",
    "Dt_Dt1_all = Dt_all[0]/Dt_all\n",
    "Dt_Dt1_all\n"
   ]
  },
  {
   "cell_type": "code",
   "execution_count": 141,
   "metadata": {},
   "outputs": [],
   "source": [
    "D0_ = sequence_count.iloc[:,0]\n",
    "D1fD0 = sequence_count.divide(D0_,axis='rows')\n",
    "fitting_table = 1 - (Dt_Dt1_all * binding_fraction * D1fD0)\n",
    "fitting_table[fitting_table < 0] = 0.00001\n",
    "fitting_table = fitting_table.reset_index()\n",
    "fitting_table = fitting_table.drop(\"index\",axis = 1)"
   ]
  },
  {
   "attachments": {},
   "cell_type": "markdown",
   "metadata": {},
   "source": [
    "### Define fitting equations and implement it by curve_fit and partial functions"
   ]
  },
  {
   "cell_type": "code",
   "execution_count": 142,
   "metadata": {},
   "outputs": [],
   "source": [
    "\n",
    "def HitsEQ(x, K):\n",
    "    return x/(x+K)\n",
    "\n",
    "def curvefit(func, x, y):\n",
    "    return tuple(curve_fit(HitsEQ, x, y))\n",
    "fit = partial(curvefit, HitsEQ, enzyme_concentration)\n",
    "\n"
   ]
  },
  {
   "attachments": {},
   "cell_type": "markdown",
   "metadata": {},
   "source": [
    "### Fit your data and get results"
   ]
  },
  {
   "cell_type": "code",
   "execution_count": 143,
   "metadata": {},
   "outputs": [],
   "source": [
    "K = fitting_table.apply(fit, axis=1).apply(pd.Series)\n"
   ]
  },
  {
   "cell_type": "code",
   "execution_count": 179,
   "metadata": {},
   "outputs": [
    {
     "data": {
      "text/html": [
       "<div>\n",
       "<style scoped>\n",
       "    .dataframe tbody tr th:only-of-type {\n",
       "        vertical-align: middle;\n",
       "    }\n",
       "\n",
       "    .dataframe tbody tr th {\n",
       "        vertical-align: top;\n",
       "    }\n",
       "\n",
       "    .dataframe thead th {\n",
       "        text-align: right;\n",
       "    }\n",
       "</style>\n",
       "<table border=\"1\" class=\"dataframe\">\n",
       "  <thead>\n",
       "    <tr style=\"text-align: right;\">\n",
       "      <th></th>\n",
       "      <th>K</th>\n",
       "      <th>pcov</th>\n",
       "      <th>id</th>\n",
       "      <th>KA</th>\n",
       "    </tr>\n",
       "  </thead>\n",
       "  <tbody>\n",
       "    <tr>\n",
       "      <th>0</th>\n",
       "      <td>7.96889</td>\n",
       "      <td>2.596841</td>\n",
       "      <td>AAAAAA</td>\n",
       "      <td>0.125488</td>\n",
       "    </tr>\n",
       "    <tr>\n",
       "      <th>1</th>\n",
       "      <td>8.600381</td>\n",
       "      <td>0.477099</td>\n",
       "      <td>AAAAAC</td>\n",
       "      <td>0.116274</td>\n",
       "    </tr>\n",
       "    <tr>\n",
       "      <th>2</th>\n",
       "      <td>15.0288</td>\n",
       "      <td>0.144638</td>\n",
       "      <td>AAAAAG</td>\n",
       "      <td>0.066539</td>\n",
       "    </tr>\n",
       "    <tr>\n",
       "      <th>3</th>\n",
       "      <td>6.204218</td>\n",
       "      <td>0.366085</td>\n",
       "      <td>AAAAAT</td>\n",
       "      <td>0.161181</td>\n",
       "    </tr>\n",
       "    <tr>\n",
       "      <th>4</th>\n",
       "      <td>4.82366</td>\n",
       "      <td>0.054333</td>\n",
       "      <td>AAAACA</td>\n",
       "      <td>0.207311</td>\n",
       "    </tr>\n",
       "  </tbody>\n",
       "</table>\n",
       "</div>"
      ],
      "text/plain": [
       "          K      pcov      id        KA\n",
       "0   7.96889  2.596841  AAAAAA  0.125488\n",
       "1  8.600381  0.477099  AAAAAC  0.116274\n",
       "2   15.0288  0.144638  AAAAAG  0.066539\n",
       "3  6.204218  0.366085  AAAAAT  0.161181\n",
       "4   4.82366  0.054333  AAAACA  0.207311"
      ]
     },
     "execution_count": 179,
     "metadata": {},
     "output_type": "execute_result"
    }
   ],
   "source": [
    "K.columns = [\"K\", \"pcov\"]\n",
    "finalresult = K.explode([\"K\", \"pcov\"]).explode(\"pcov\").reset_index().drop(\"index\", axis = 1)\n",
    "finalresult[[\"id\"]] = library\n",
    "finalresult[[\"KA\"]] = (1/finalresult.K).apply(pd.Series)\n",
    "finalresult.head()"
   ]
  },
  {
   "attachments": {},
   "cell_type": "markdown",
   "metadata": {},
   "source": [
    "### Calculate relative association constants"
   ]
  },
  {
   "cell_type": "code",
   "execution_count": 180,
   "metadata": {},
   "outputs": [
    {
     "data": {
      "text/html": [
       "<div>\n",
       "<style scoped>\n",
       "    .dataframe tbody tr th:only-of-type {\n",
       "        vertical-align: middle;\n",
       "    }\n",
       "\n",
       "    .dataframe tbody tr th {\n",
       "        vertical-align: top;\n",
       "    }\n",
       "\n",
       "    .dataframe thead th {\n",
       "        text-align: right;\n",
       "    }\n",
       "</style>\n",
       "<table border=\"1\" class=\"dataframe\">\n",
       "  <thead>\n",
       "    <tr style=\"text-align: right;\">\n",
       "      <th></th>\n",
       "      <th>K</th>\n",
       "      <th>pcov</th>\n",
       "      <th>id</th>\n",
       "      <th>KA</th>\n",
       "      <th>RKA</th>\n",
       "    </tr>\n",
       "  </thead>\n",
       "  <tbody>\n",
       "    <tr>\n",
       "      <th>0</th>\n",
       "      <td>7.96889</td>\n",
       "      <td>2.596841</td>\n",
       "      <td>AAAAAA</td>\n",
       "      <td>0.125488</td>\n",
       "      <td>1.885934</td>\n",
       "    </tr>\n",
       "    <tr>\n",
       "      <th>1</th>\n",
       "      <td>8.600381</td>\n",
       "      <td>0.477099</td>\n",
       "      <td>AAAAAC</td>\n",
       "      <td>0.116274</td>\n",
       "      <td>1.747457</td>\n",
       "    </tr>\n",
       "    <tr>\n",
       "      <th>2</th>\n",
       "      <td>15.0288</td>\n",
       "      <td>0.144638</td>\n",
       "      <td>AAAAAG</td>\n",
       "      <td>0.066539</td>\n",
       "      <td>1.000000</td>\n",
       "    </tr>\n",
       "    <tr>\n",
       "      <th>3</th>\n",
       "      <td>6.204218</td>\n",
       "      <td>0.366085</td>\n",
       "      <td>AAAAAT</td>\n",
       "      <td>0.161181</td>\n",
       "      <td>2.422352</td>\n",
       "    </tr>\n",
       "    <tr>\n",
       "      <th>4</th>\n",
       "      <td>4.82366</td>\n",
       "      <td>0.054333</td>\n",
       "      <td>AAAACA</td>\n",
       "      <td>0.207311</td>\n",
       "      <td>3.115642</td>\n",
       "    </tr>\n",
       "  </tbody>\n",
       "</table>\n",
       "</div>"
      ],
      "text/plain": [
       "          K      pcov      id        KA       RKA\n",
       "0   7.96889  2.596841  AAAAAA  0.125488  1.885934\n",
       "1  8.600381  0.477099  AAAAAC  0.116274  1.747457\n",
       "2   15.0288  0.144638  AAAAAG  0.066539  1.000000\n",
       "3  6.204218  0.366085  AAAAAT  0.161181  2.422352\n",
       "4   4.82366  0.054333  AAAACA  0.207311  3.115642"
      ]
     },
     "execution_count": 180,
     "metadata": {},
     "output_type": "execute_result"
    }
   ],
   "source": [
    "finalresult[[\"RKA\"]] = (finalresult.KA/finalresult.KA[2]).apply(pd.Series)"
   ]
  },
  {
   "cell_type": "code",
   "execution_count": 189,
   "metadata": {},
   "outputs": [
    {
     "data": {
      "text/html": [
       "<div>\n",
       "<style scoped>\n",
       "    .dataframe tbody tr th:only-of-type {\n",
       "        vertical-align: middle;\n",
       "    }\n",
       "\n",
       "    .dataframe tbody tr th {\n",
       "        vertical-align: top;\n",
       "    }\n",
       "\n",
       "    .dataframe thead th {\n",
       "        text-align: right;\n",
       "    }\n",
       "</style>\n",
       "<table border=\"1\" class=\"dataframe\">\n",
       "  <thead>\n",
       "    <tr style=\"text-align: right;\">\n",
       "      <th></th>\n",
       "      <th>id</th>\n",
       "      <th>K</th>\n",
       "      <th>KA</th>\n",
       "      <th>RKA</th>\n",
       "      <th>pcov</th>\n",
       "    </tr>\n",
       "  </thead>\n",
       "  <tbody>\n",
       "    <tr>\n",
       "      <th>0</th>\n",
       "      <td>AAAAAA</td>\n",
       "      <td>7.96889</td>\n",
       "      <td>0.125488</td>\n",
       "      <td>1.885934</td>\n",
       "      <td>2.596841</td>\n",
       "    </tr>\n",
       "    <tr>\n",
       "      <th>1</th>\n",
       "      <td>AAAAAC</td>\n",
       "      <td>8.600381</td>\n",
       "      <td>0.116274</td>\n",
       "      <td>1.747457</td>\n",
       "      <td>0.477099</td>\n",
       "    </tr>\n",
       "    <tr>\n",
       "      <th>2</th>\n",
       "      <td>AAAAAG</td>\n",
       "      <td>15.0288</td>\n",
       "      <td>0.066539</td>\n",
       "      <td>1.000000</td>\n",
       "      <td>0.144638</td>\n",
       "    </tr>\n",
       "    <tr>\n",
       "      <th>3</th>\n",
       "      <td>AAAAAT</td>\n",
       "      <td>6.204218</td>\n",
       "      <td>0.161181</td>\n",
       "      <td>2.422352</td>\n",
       "      <td>0.366085</td>\n",
       "    </tr>\n",
       "    <tr>\n",
       "      <th>4</th>\n",
       "      <td>AAAACA</td>\n",
       "      <td>4.82366</td>\n",
       "      <td>0.207311</td>\n",
       "      <td>3.115642</td>\n",
       "      <td>0.054333</td>\n",
       "    </tr>\n",
       "  </tbody>\n",
       "</table>\n",
       "</div>"
      ],
      "text/plain": [
       "       id         K        KA       RKA      pcov\n",
       "0  AAAAAA   7.96889  0.125488  1.885934  2.596841\n",
       "1  AAAAAC  8.600381  0.116274  1.747457  0.477099\n",
       "2  AAAAAG   15.0288  0.066539  1.000000  0.144638\n",
       "3  AAAAAT  6.204218  0.161181  2.422352  0.366085\n",
       "4  AAAACA   4.82366  0.207311  3.115642  0.054333"
      ]
     },
     "execution_count": 189,
     "metadata": {},
     "output_type": "execute_result"
    }
   ],
   "source": [
    "cols = ['id', 'K', 'KA', 'RKA', 'pcov']\n",
    "finalresult = finalresult[cols]\n",
    "finalresult.head()"
   ]
  },
  {
   "attachments": {},
   "cell_type": "markdown",
   "metadata": {},
   "source": [
    "## Equation solution - use unbound and one fraction point"
   ]
  },
  {
   "cell_type": "code",
   "execution_count": null,
   "metadata": {},
   "outputs": [],
   "source": [
    "def HitsEQ_calculation(x,y):\n",
    "    return "
   ]
  }
 ],
 "metadata": {
  "kernelspec": {
   "display_name": "mactf-sandbox",
   "language": "python",
   "name": "python3"
  },
  "language_info": {
   "codemirror_mode": {
    "name": "ipython",
    "version": 3
   },
   "file_extension": ".py",
   "mimetype": "text/x-python",
   "name": "python",
   "nbconvert_exporter": "python",
   "pygments_lexer": "ipython3",
   "version": "3.8.7"
  },
  "orig_nbformat": 4
 },
 "nbformat": 4,
 "nbformat_minor": 2
}
